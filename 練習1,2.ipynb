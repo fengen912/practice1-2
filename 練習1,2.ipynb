{
 "cells": [
  {
   "cell_type": "code",
   "execution_count": 71,
   "id": "bef84cc4",
   "metadata": {
    "scrolled": true
   },
   "outputs": [
    {
     "name": "stdout",
     "output_type": "stream",
     "text": [
      "裝備：\n",
      "1  索仔\n",
      "6  火把\n",
      "42  銀角仔\n",
      "1  刀仔\n",
      "12  箭\n",
      "裝備總數：62\n"
     ]
    }
   ],
   "source": [
    "inventory = {'索仔': 1, '火把': 6, '銀角仔': 42, '刀仔': 1, '箭': 12} \n",
    "\n",
    "print('裝備：')\n",
    "\n",
    "def displayInventory(inventory):\n",
    "    total_items = 0\n",
    "    \n",
    "    for key,value in inventory.items():\n",
    "        print(f\"{value}  {key}\") \n",
    "        total_items += value            #total_items=total_items+value\n",
    "    print(f\"裝備總數：{total_items}\")\n",
    "    \n",
    "displayInventory(inventory)"
   ]
  },
  {
   "cell_type": "code",
   "execution_count": 88,
   "id": "be203dff",
   "metadata": {},
   "outputs": [
    {
     "name": "stdout",
     "output_type": "stream",
     "text": [
      "裝備：\n",
      "1  索仔\n",
      "6  火把\n",
      "45  銀角仔\n",
      "2  刀仔\n",
      "12  箭\n",
      "1  紅寶石\n",
      "裝備總數：67\n"
     ]
    }
   ],
   "source": [
    "def addToInventory(inventory, dragonLoot): \n",
    "    updated_inventory=inventory.copy() #創建一新字典，存放inventory\n",
    "    for item in dragonLoot: #新獲得的裝備列表\n",
    "        updated_inventory[item]=updated_inventory.get(item,0)+1 #將每個新裝備加入或更新到主角裝備清單中\n",
    "    return updated_inventory #返回合併後的主角裝備清單\n",
    "\n",
    "\n",
    "inventory = {'索仔': 1, '火把': 6, '銀角仔': 42, '刀仔': 1, '箭': 12}\n",
    "dragonLoot = ['銀角仔', '刀仔', '銀角仔', '銀角仔', '紅寶石']\n",
    "\n",
    "print('裝備：')\n",
    "def displayInventory(updated_inventory):\n",
    "    total_items = 0\n",
    "    \n",
    "    for key,value in updated_inventory.items():\n",
    "        print(f\"{value}  {key}\") \n",
    "        total_items += value            #total_items=total_items+value\n",
    "    print(f\"裝備總數：{total_items}\")\n",
    "    \n",
    "displayInventory(updated_inventory)"
   ]
  },
  {
   "cell_type": "code",
   "execution_count": null,
   "id": "184846c1",
   "metadata": {},
   "outputs": [],
   "source": []
  }
 ],
 "metadata": {
  "kernelspec": {
   "display_name": "Python 3 (ipykernel)",
   "language": "python",
   "name": "python3"
  },
  "language_info": {
   "codemirror_mode": {
    "name": "ipython",
    "version": 3
   },
   "file_extension": ".py",
   "mimetype": "text/x-python",
   "name": "python",
   "nbconvert_exporter": "python",
   "pygments_lexer": "ipython3",
   "version": "3.11.4"
  }
 },
 "nbformat": 4,
 "nbformat_minor": 5
}
